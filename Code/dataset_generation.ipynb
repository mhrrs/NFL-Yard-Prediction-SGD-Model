{
 "cells": [
  {
   "cell_type": "code",
   "execution_count": 1,
   "metadata": {},
   "outputs": [],
   "source": [
    "import pandas as pd\n",
    "import numpy as np \n"
   ]
  },
  {
   "cell_type": "code",
   "execution_count": 2,
   "metadata": {},
   "outputs": [],
   "source": [
    "# importing all of our original csv files as seperate dataframes\n",
    "games = pd.read_csv('../Data/games.csv'); \n",
    "players = pd.read_csv('../Data/players.csv'); \n",
    "plays = pd.read_csv('../Data/plays.csv'); \n",
    "\n",
    "combined_df = []; \n",
    "final_df = []; "
   ]
  },
  {
   "cell_type": "code",
   "execution_count": 3,
   "metadata": {},
   "outputs": [],
   "source": [
    "# join all the datasets together into a unified dataset for manipulation\n",
    "# WARNING: DISCOVERED THAT THE DATASET ONLY CONTAINS 12,486 PLAYS FOR 136 GAMES PLAYED IN THE 2022 SEASON \n",
    "# THE LARGEST AMOUNT OF DATA IS TACKLE DATA WHICH IS NOT VERY HELPFUL FOR OUR CASE\n",
    "# WE SHOULD DEFINITELY CHECK TO SEE IF WE CAN FIND MORE DATA FOR OTHER SEASONS IF POSSIBLE\n",
    "\n",
    "plays = plays.rename(columns={'ballCarrierId' : 'nflId'}) #rename attributes to their counterparts in the other files to enable join  \n",
    "\n",
    "combined_df = pd.merge(plays, players, on='nflId', how='left') #join to get detailed player info \n",
    "combined_df = pd.merge(combined_df, games, on='gameId', how='left'); #join to get detailed game info"
   ]
  },
  {
   "cell_type": "code",
   "execution_count": 42,
   "metadata": {},
   "outputs": [],
   "source": [
    "# conduct feature engineering to build the attributes we desire\n",
    "\n",
    "#conversion of defensiveTeam to a quantitative variable: defensiveTeamQt \n",
    "#ref: https://stackoverflow.com/questions/38088652/pandas-convert-categories-to-numbers \n",
    "combined_df['defensiveTeamQt'] = pd.factorize(combined_df['defensiveTeam'], sort=True)[0] + 1; \n",
    "\n",
    "#convert offensiveFormation to a quantitative variable: offensiveFormationQt \n",
    "combined_df['offenseFormationQt'] = pd.factorize(combined_df['offenseFormation'], sort=True)[0] + 1; \n",
    "#display(pd.factorize(combined_df['offenseFormation'], sort=True)[1]); \n",
    "\n",
    "#conversion of gameClock to purely seconds remaining in the game\n",
    "#ref: https://stackoverflow.com/questions/50308629/python-pandas-column-convert-minutes-to-second\n",
    "combined_df['gameClockInSeconds'] = [(int(min) * 60) + int(sec) for min, sec in combined_df['gameClock'].str.split(':')]; \n",
    "\n",
    "#convert scoreDifferential and calculate ageOfBallCarrier\n",
    "scoreDiff = []; \n",
    "ballCarrierAge = []; \n",
    "secondary = [] \n",
    "for i, j in combined_df.iterrows(): \n",
    "    #convert scoreDifferential into negative if down a certain number of points, or positive if up a certain number of points\n",
    "    if j['possessionTeam'] == j['visitorTeamAbbr']: \n",
    "        scoreDiff.append(j['preSnapVisitorScore'] - j['preSnapHomeScore']); \n",
    "    else: \n",
    "        scoreDiff.append(j['preSnapHomeScore'] - j['preSnapVisitorScore']);\n",
    "\n",
    "    #calculate ageOfBallCarrier\n",
    "    if j['birthDate'] == '':\n",
    "        ballCarrierAge.append('bullshit'); \n",
    "    else: \n",
    "        birthDate = pd.to_datetime(j['birthDate']); \n",
    "        gameDate = pd.to_datetime(j['gameDate']); \n",
    "        \n",
    "        ballCarrierAge.append(gameDate.year - birthDate.year - ((gameDate.month, gameDate.day) < (birthDate.month, birthDate.day)))\n",
    "\n",
    "#convert height into cm\n",
    "combined_df['heightInCm'] = [((int(ft) * 30.48) + (int(inches) * 2.54)) for ft, inches in combined_df['height'].str.split('-')]; \n",
    "\n",
    "#convert weight into kgs\n",
    "combined_df['weightInKg'] = [(int(weight) * 0.453592) for weight in combined_df['weight']]; \n",
    "\n",
    "#add scoreDifferential and ageOfBallCarrier into the combined dataset      \n",
    "combined_df['signedScoreDiff'] = scoreDiff; \n",
    "combined_df['ballCarrierAge'] = ballCarrierAge; \n",
    "\n",
    "#round everything to two decimal places \n",
    "combined_df = combined_df.round(2); \n",
    "combined_df['heightInCm'] = combined_df['heightInCm'].round(1)"
   ]
  },
  {
   "cell_type": "code",
   "execution_count": 45,
   "metadata": {},
   "outputs": [],
   "source": [
    "# select only the desired attributes we need and discard the rest\n",
    "final_df = combined_df[['gameDate', 'possessionTeam', 'defensiveTeam', 'defensiveTeamQt', 'ballCarrierDisplayName', 'heightInCm', 'weightInKg', 'position', 'ballCarrierAge', 'quarter', 'down', \n",
    "                        'gameClock', 'gameClockInSeconds', 'yardsToGo', 'preSnapHomeScore', 'preSnapVisitorScore', 'signedScoreDiff', 'playResult', \n",
    "                        'absoluteYardlineNumber', 'offenseFormation', 'offenseFormationQt', 'defendersInTheBox']]; "
   ]
  },
  {
   "cell_type": "code",
   "execution_count": null,
   "metadata": {},
   "outputs": [],
   "source": [
    "# export the finalized dataset to a csv"
   ]
  },
  {
   "cell_type": "markdown",
   "metadata": {},
   "source": []
  }
 ],
 "metadata": {
  "kernelspec": {
   "display_name": "Python 3",
   "language": "python",
   "name": "python3"
  },
  "language_info": {
   "codemirror_mode": {
    "name": "ipython",
    "version": 3
   },
   "file_extension": ".py",
   "mimetype": "text/x-python",
   "name": "python",
   "nbconvert_exporter": "python",
   "pygments_lexer": "ipython3",
   "version": "3.11.5"
  },
  "orig_nbformat": 4
 },
 "nbformat": 4,
 "nbformat_minor": 2
}
